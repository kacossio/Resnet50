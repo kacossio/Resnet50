{
 "cells": [
  {
   "cell_type": "code",
   "execution_count": 1,
   "metadata": {},
   "outputs": [],
   "source": [
    "import tensorflow_datasets as tfds\n",
    "import tensorflow as tf\n",
    "import build_resnet"
   ]
  },
  {
   "cell_type": "code",
   "execution_count": 2,
   "metadata": {},
   "outputs": [],
   "source": [
    "def format_image(image, label):\n",
    "    image = tf.image.resize(image, (224, 224)) / 255.0\n",
    "    return  image, label"
   ]
  },
  {
   "cell_type": "code",
   "execution_count": 3,
   "metadata": {},
   "outputs": [],
   "source": [
    "(raw_train, raw_validation, raw_test), metadata = tfds.load(\n",
    "    'cats_vs_dogs',\n",
    "    split=['train[:80%]', 'train[80%:90%]', 'train[90%:]'],\n",
    "    with_info=True,\n",
    "    as_supervised=True,\n",
    ")"
   ]
  },
  {
   "cell_type": "code",
   "execution_count": 4,
   "metadata": {},
   "outputs": [
    {
     "name": "stdout",
     "output_type": "stream",
     "text": [
      "number of training examples:23262, number of classes: 2\n"
     ]
    }
   ],
   "source": [
    "num_examples = metadata.splits['train'].num_examples\n",
    "num_classes = metadata.features['label'].num_classes\n",
    "print(f\"number of training examples:{num_examples}, number of classes: {num_classes}\")"
   ]
  },
  {
   "cell_type": "code",
   "execution_count": 5,
   "metadata": {},
   "outputs": [
    {
     "name": "stdout",
     "output_type": "stream",
     "text": [
      "image shape: (32, 224, 224, 3)\n"
     ]
    }
   ],
   "source": [
    "BATCH_SIZE = 32\n",
    "train_batches = raw_train.shuffle(num_examples // 4).map(format_image).batch(BATCH_SIZE).prefetch(1)\n",
    "validation_batches = raw_validation.map(format_image).batch(BATCH_SIZE).prefetch(1)\n",
    "test_batches = raw_test.map(format_image).batch(1)\n",
    "\n",
    "for image_batch, label_batch in train_batches.take(1):\n",
    "    pass\n",
    "\n",
    "print(f\"image shape: {image_batch.shape}\")"
   ]
  },
  {
   "cell_type": "code",
   "execution_count": 6,
   "metadata": {},
   "outputs": [],
   "source": [
    "resnet = build_resnet.build_resnet()"
   ]
  },
  {
   "cell_type": "code",
   "execution_count": 7,
   "metadata": {},
   "outputs": [],
   "source": [
    "resnet.compile(optimizer=\"adam\",\n",
    "              loss = 'sparse_categorical_crossentropy',\n",
    "              metrics=['accuracy'])"
   ]
  },
  {
   "cell_type": "code",
   "execution_count": 8,
   "metadata": {},
   "outputs": [
    {
     "name": "stdout",
     "output_type": "stream",
     "text": [
      "Epoch 1/10\n",
      "582/582 [==============================] - 74s 116ms/step - loss: 1.1454 - accuracy: 0.5628 - val_loss: 0.6606 - val_accuracy: 0.5877\n",
      "Epoch 2/10\n",
      "582/582 [==============================] - 67s 114ms/step - loss: 0.6204 - accuracy: 0.6581 - val_loss: 1.0047 - val_accuracy: 0.5718\n",
      "Epoch 3/10\n",
      "582/582 [==============================] - 65s 110ms/step - loss: 0.5455 - accuracy: 0.7258 - val_loss: 0.9648 - val_accuracy: 0.6040\n",
      "Epoch 4/10\n",
      "582/582 [==============================] - 64s 108ms/step - loss: 0.4830 - accuracy: 0.7731 - val_loss: 0.6210 - val_accuracy: 0.6569\n",
      "Epoch 5/10\n",
      "582/582 [==============================] - 64s 108ms/step - loss: 0.4187 - accuracy: 0.8098 - val_loss: 0.4979 - val_accuracy: 0.7605\n",
      "Epoch 6/10\n",
      "582/582 [==============================] - 63s 108ms/step - loss: 0.3689 - accuracy: 0.8379 - val_loss: 0.6154 - val_accuracy: 0.7334\n",
      "Epoch 7/10\n",
      "582/582 [==============================] - 63s 108ms/step - loss: 0.3168 - accuracy: 0.8648 - val_loss: 0.4765 - val_accuracy: 0.7915\n",
      "Epoch 8/10\n",
      "582/582 [==============================] - 63s 108ms/step - loss: 0.2737 - accuracy: 0.8863 - val_loss: 0.3524 - val_accuracy: 0.8500\n",
      "Epoch 9/10\n",
      "582/582 [==============================] - 63s 108ms/step - loss: 0.2437 - accuracy: 0.8955 - val_loss: 0.3110 - val_accuracy: 0.8633\n",
      "Epoch 10/10\n",
      "582/582 [==============================] - 63s 108ms/step - loss: 0.2123 - accuracy: 0.9148 - val_loss: 0.6571 - val_accuracy: 0.7631\n"
     ]
    }
   ],
   "source": [
    "hist = resnet.fit(train_batches,\n",
    "                 epochs=10,\n",
    "                 validation_data=validation_batches)"
   ]
  },
  {
   "cell_type": "code",
   "execution_count": 9,
   "metadata": {},
   "outputs": [
    {
     "name": "stdout",
     "output_type": "stream",
     "text": [
      "2326/2326 [==============================] - 35s 15ms/step - loss: 0.6576 - accuracy: 0.7661\n"
     ]
    },
    {
     "data": {
      "text/plain": [
       "[0.6575618982315063, 0.7661221027374268]"
      ]
     },
     "execution_count": 9,
     "metadata": {},
     "output_type": "execute_result"
    }
   ],
   "source": [
    "resnet.evaluate(test_batches)"
   ]
  }
 ],
 "metadata": {
  "kernelspec": {
   "display_name": "Python 3",
   "language": "python",
   "name": "python3"
  },
  "language_info": {
   "codemirror_mode": {
    "name": "ipython",
    "version": 3
   },
   "file_extension": ".py",
   "mimetype": "text/x-python",
   "name": "python",
   "nbconvert_exporter": "python",
   "pygments_lexer": "ipython3",
   "version": "3.7.9"
  }
 },
 "nbformat": 4,
 "nbformat_minor": 4
}
